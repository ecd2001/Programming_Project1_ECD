{
 "cells": [
  {
   "cell_type": "markdown",
   "id": "5a0f283a",
   "metadata": {},
   "source": [
    "# Programming Project 1\n",
    "## Created by Eli Dalton  -  Version 1\n",
    "## CS-150-02  -  Computer Programming for the Liberal Arts\n",
    "## Fall 2021\n",
    "## The Rock, Paper, Scissors Game"
   ]
  },
  {
   "cell_type": "code",
   "execution_count": null,
   "id": "af316fac",
   "metadata": {},
   "outputs": [
    {
     "name": "stdout",
     "output_type": "stream",
     "text": [
      "Enter your choice of rock, paper, or scissors (Type stop to end game): paper\n",
      "You won! Great Job! Keep it up!\n",
      "Enter your choice of rock, paper, or scissors (Type stop to end game): rock\n",
      "You won! Great Job! Keep it up!\n",
      "Enter your choice of rock, paper, or scissors (Type stop to end game): scissors\n",
      "It's a tie. Try again!\n",
      "Enter your choice of rock, paper, or scissors (Type stop to end game): rock\n",
      "You won! Great Job! Keep it up!\n",
      "Enter your choice of rock, paper, or scissors (Type stop to end game): paper\n",
      "Sorry, you lost! Try again!\n"
     ]
    }
   ],
   "source": [
    "#I had to import the random module from the Python LIbrary in order to generate a random integer later on\n",
    "import random\n",
    "#This input function prompts the user for their first input and stores the string as x\n",
    "x = input(\"Enter your choice of rock, paper, or scissors (Type stop to end game): \")  \n",
    "\n",
    "#This function evaluates the converted user input with the random integer and prints the response\n",
    "def evaluate_input(x,y):   \n",
    "    if x == 1:\n",
    "        if y == 1:\n",
    "            print(\"It's a tie. Try again!\")\n",
    "        elif y == 2:\n",
    "            print(\"Sorry, you lost! Try again!\")\n",
    "        else:\n",
    "            print(\"You won! Great Job! Keep it up!\")\n",
    "    elif x == 2:\n",
    "        if y == 1:\n",
    "            print(\"You won! Great Job! Keep it up!\")\n",
    "        elif y == 2:\n",
    "            print(\"It's a tie. Try again!\")\n",
    "        else:\n",
    "            print(\"Sorry, you lost! Try again!\")\n",
    "    else:\n",
    "        if y == 1:\n",
    "            print(\"Sorry, you lost! Try again!\")\n",
    "        elif y == 2:\n",
    "            print(\"You won! Great Job! Keep it up!\")\n",
    "        else:\n",
    "            print(\"It's a tie. Try again!\")\n",
    "\n",
    "#This while loop allows the user to continue playing until they type \"stop\" and it allows a new random integer to be \n",
    "#generated each time.\n",
    "while x != \"stop\":\n",
    "    #This if...elif...else statement converts the user's string input into an integer\n",
    "    if x == \"rock\":\n",
    "        x = 1\n",
    "    elif x == \"paper\":\n",
    "        x = 2\n",
    "    else:\n",
    "        x = 3\n",
    "    #This generates a random integer between 1 and 3\n",
    "    y = random.randrange(1,4)\n",
    "    evaluate_input(x,y)\n",
    "    \n",
    "    x = input(\"Enter your choice of rock, paper, or scissors (Type stop to end game): \")\n",
    "    \n",
    "    \n"
   ]
  },
  {
   "cell_type": "code",
   "execution_count": null,
   "id": "8c7cdc65",
   "metadata": {},
   "outputs": [],
   "source": []
  }
 ],
 "metadata": {
  "kernelspec": {
   "display_name": "Python 3",
   "language": "python",
   "name": "python3"
  },
  "language_info": {
   "codemirror_mode": {
    "name": "ipython",
    "version": 3
   },
   "file_extension": ".py",
   "mimetype": "text/x-python",
   "name": "python",
   "nbconvert_exporter": "python",
   "pygments_lexer": "ipython3",
   "version": "3.8.8"
  }
 },
 "nbformat": 4,
 "nbformat_minor": 5
}
